{
 "cells": [
  {
   "cell_type": "code",
   "execution_count": 26,
   "metadata": {
    "collapsed": true
   },
   "outputs": [],
   "source": [
    "%matplotlib inline\n",
    "import numpy as np\n",
    "import matplotlib.pyplot as plt\n",
    "from scipy.misc import comb, factorial"
   ]
  },
  {
   "cell_type": "markdown",
   "metadata": {},
   "source": [
    "# the hat problem"
   ]
  },
  {
   "cell_type": "code",
   "execution_count": 27,
   "metadata": {
    "collapsed": false
   },
   "outputs": [],
   "source": [
    "import itertools\n",
    "N = 10\n",
    "xpt = itertools.permutations(np.arange(0, N))\n",
    "count = 0"
   ]
  },
  {
   "cell_type": "code",
   "execution_count": 28,
   "metadata": {
    "collapsed": false
   },
   "outputs": [],
   "source": [
    "for x in xpt:\n",
    "    if (x[0] == 0) and (x[1]==1) and (x[2]==2):\n",
    "        count+=1"
   ]
  },
  {
   "cell_type": "code",
   "execution_count": 29,
   "metadata": {
    "collapsed": false
   },
   "outputs": [
    {
     "name": "stdout",
     "output_type": "stream",
     "text": [
      "count: 5040, N:3628800.0, prob:0.001388888888888889\n"
     ]
    }
   ],
   "source": [
    "num = factorial(N)\n",
    "prob = count/num\n",
    "print('count: {0}, N:{1}, prob:{2}'.format(count, num, prob))"
   ]
  },
  {
   "cell_type": "code",
   "execution_count": 32,
   "metadata": {
    "collapsed": false
   },
   "outputs": [
    {
     "data": {
      "text/plain": [
       "0.001388888888888889"
      ]
     },
     "execution_count": 32,
     "metadata": {},
     "output_type": "execute_result"
    }
   ],
   "source": [
    "1/720"
   ]
  },
  {
   "cell_type": "code",
   "execution_count": 30,
   "metadata": {
    "collapsed": false
   },
   "outputs": [
    {
     "data": {
      "text/plain": [
       "0.001388888888888889"
      ]
     },
     "execution_count": 30,
     "metadata": {},
     "output_type": "execute_result"
    }
   ],
   "source": [
    "1/(10*9*8)"
   ]
  },
  {
   "cell_type": "code",
   "execution_count": null,
   "metadata": {
    "collapsed": false
   },
   "outputs": [],
   "source": [
    "def num_repeats():\n",
    "    num_tosses = 0\n",
    "    options = ['a', 'b', 'c', 'd', 'e', 'f']\n",
    "    while options:\n",
    "        c = np.random.choice(['a', 'b', 'c', 'd', 'e', 'f'], size=1)\n",
    "        num_tosses += 1\n",
    "        if c in options:\n",
    "            options.remove(c)\n",
    "    return num_tosses"
   ]
  },
  {
   "cell_type": "code",
   "execution_count": null,
   "metadata": {
    "collapsed": true
   },
   "outputs": [],
   "source": [
    "res = []\n",
    "n_simu = 50000\n",
    "for i in range(n_simu):\n",
    "    res.append(num_repeats())\n"
   ]
  },
  {
   "cell_type": "code",
   "execution_count": null,
   "metadata": {
    "collapsed": false
   },
   "outputs": [],
   "source": [
    "np.mean(np.array(res))"
   ]
  },
  {
   "cell_type": "markdown",
   "metadata": {},
   "source": [
    "# Problem 5 Vertical: Indicator variables\n"
   ]
  },
  {
   "cell_type": "code",
   "execution_count": null,
   "metadata": {
    "collapsed": true
   },
   "outputs": [],
   "source": [
    "def toss_coins(num_tosses=10):\n",
    "    xpt = np.random.choice(a=['H', 'T'], size=num_toss, p=[0.75, 0.25])\n",
    "    return xpt\n",
    "\n",
    "def compute_reward(in_seq):\n",
    "    reward = []\n",
    "    for idx in range(1,num_toss):\n",
    "        r = in_seq[idx] == 'T' and in_seq[idx-1] == 'H'\n",
    "        reward.append(r)\n",
    "    reward_total = np.sum(reward)\n",
    "    #print(in_seq, '\\n', reward)\n",
    "    return reward_total"
   ]
  },
  {
   "cell_type": "code",
   "execution_count": null,
   "metadata": {
    "collapsed": true
   },
   "outputs": [],
   "source": [
    "num_toss = 10\n",
    "num_simu = 25000\n",
    "\n",
    "r_vals = []\n",
    "for idx in range(num_simu):\n",
    "    trial = toss_coins(num_tosses=10)\n",
    "    reward = compute_reward(trial)\n",
    "    r_vals.append(reward)\n"
   ]
  },
  {
   "cell_type": "code",
   "execution_count": null,
   "metadata": {
    "collapsed": false
   },
   "outputs": [],
   "source": [
    "plt.hist(r_vals)\n",
    "print('Mean R: {0}'.format(np.mean(r_vals)))\n",
    "print('Var R: {0}'.format(np.var(r_vals)))"
   ]
  },
  {
   "cell_type": "markdown",
   "metadata": {},
   "source": [
    "** Theory **"
   ]
  },
  {
   "cell_type": "code",
   "execution_count": null,
   "metadata": {
    "collapsed": false
   },
   "outputs": [],
   "source": [
    "n = num_toss\n",
    "p = 0.75\n",
    "r_mean = n*p*(1-p)\n",
    "r_var = n*p*(1-p) + 2*(n-2)*(p**2)*(1-p)**2 + (n-2)*(n-3)*(p**2)*(1-p)**2 - r_mean**2\n",
    "\n",
    "print('theory mean: {}'.format(r_mean))\n",
    "print('theory_var: {}'.format(r_var))"
   ]
  },
  {
   "cell_type": "markdown",
   "metadata": {},
   "source": [
    "# Problem 6: Binomial"
   ]
  },
  {
   "cell_type": "code",
   "execution_count": null,
   "metadata": {
    "collapsed": true
   },
   "outputs": [],
   "source": [
    "N = 1000\n",
    "x = np.random.binomial(n=10, p=0.5, size=N)\n",
    "y = np.random.binomial(n=20, p=0.1, size=N)\n",
    "z = x + y"
   ]
  },
  {
   "cell_type": "code",
   "execution_count": null,
   "metadata": {
    "collapsed": false
   },
   "outputs": [],
   "source": [
    "plt.hist(x, bins=20, label='x')\n",
    "plt.hist(y, bins=20, label='y')\n",
    "plt.hist(z, bins=20, label='z');\n",
    "plt.legend();"
   ]
  },
  {
   "cell_type": "code",
   "execution_count": null,
   "metadata": {
    "collapsed": true
   },
   "outputs": [],
   "source": [
    "from scipy.misc import comb"
   ]
  },
  {
   "cell_type": "code",
   "execution_count": null,
   "metadata": {
    "collapsed": false
   },
   "outputs": [],
   "source": [
    "np.random.choice(['H', 'T'], size=10)"
   ]
  },
  {
   "cell_type": "code",
   "execution_count": null,
   "metadata": {
    "collapsed": false
   },
   "outputs": [],
   "source": [
    "'{0:010b}'.format(10)"
   ]
  },
  {
   "cell_type": "code",
   "execution_count": null,
   "metadata": {
    "collapsed": false
   },
   "outputs": [],
   "source": [
    "list(tmp_str)\n",
    "[np.int(x) for x in list(tmp_str)]"
   ]
  },
  {
   "cell_type": "code",
   "execution_count": null,
   "metadata": {
    "collapsed": false
   },
   "outputs": [],
   "source": [
    "bin_str = []\n",
    "valid_str = []\n",
    "for idx in range(1024):\n",
    "    tmp_str = '{0:010b}'.format(idx)\n",
    "    tmp_int = [np.int(x) for x in list(tmp_str)]\n",
    "    \n",
    "    # bin_str.append(tmp_str)\n",
    "    cond1 = np.sum(tmp_int[0:8]) == 5 \n",
    "    cond2 = np.sum(tmp_int[5:]) == 3\n",
    "    cond3 = np.sum(tmp_int[5:8]) == 1\n",
    "    if cond1 and cond2 and cond3:\n",
    "        valid_str.append(tmp_str)"
   ]
  },
  {
   "cell_type": "code",
   "execution_count": null,
   "metadata": {
    "collapsed": false
   },
   "outputs": [],
   "source": [
    "# collect strings w/ \n",
    "len(valid_str)"
   ]
  },
  {
   "cell_type": "code",
   "execution_count": null,
   "metadata": {
    "collapsed": false
   },
   "outputs": [],
   "source": [
    "valid_str"
   ]
  },
  {
   "cell_type": "code",
   "execution_count": null,
   "metadata": {
    "collapsed": true
   },
   "outputs": [],
   "source": []
  }
 ],
 "metadata": {
  "kernelspec": {
   "display_name": "Python [default]",
   "language": "python",
   "name": "python3"
  },
  "language_info": {
   "codemirror_mode": {
    "name": "ipython",
    "version": 3
   },
   "file_extension": ".py",
   "mimetype": "text/x-python",
   "name": "python",
   "nbconvert_exporter": "python",
   "pygments_lexer": "ipython3",
   "version": "3.5.2"
  },
  "toc": {
   "colors": {
    "hover_highlight": "#DAA520",
    "running_highlight": "#FF0000",
    "selected_highlight": "#FFD700"
   },
   "moveMenuLeft": true,
   "nav_menu": {
    "height": "12px",
    "width": "252px"
   },
   "navigate_menu": true,
   "number_sections": true,
   "sideBar": true,
   "threshold": 4,
   "toc_cell": false,
   "toc_section_display": "block",
   "toc_window_display": true
  }
 },
 "nbformat": 4,
 "nbformat_minor": 2
}
